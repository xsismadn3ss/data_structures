{
 "cells": [
  {
   "cell_type": "markdown",
   "metadata": {},
   "source": [
    "# Estructuras de datos\n",
    "\n",
    "Las estructuras de datos permiten crear manejar datos de forma ordenada, además permite\n",
    "crear algoritmos eficientes para manipulas datos."
   ]
  },
  {
   "cell_type": "markdown",
   "metadata": {},
   "source": [
    "# Listas\n",
    "- Las listas en python permiten almacenar objetos en un objeto iterable\n",
    "- Cada elemento en una lista tiene un indice\n",
    "- Las listas se pueden modificar\n",
    "- Se pueden eliminar objetos de una lista\n",
    "- Una lista puede tener listas dentro de ella"
   ]
  },
  {
   "cell_type": "code",
   "execution_count": null,
   "metadata": {},
   "outputs": [],
   "source": [
    "muestra: str = \"Python is a wonderful language\"\n",
    "# convertir la cadena en una lista de caracteres\n",
    "letter: list = [item for item in muestra if item != \" \"]\n",
    "print(letter)"
   ]
  },
  {
   "cell_type": "code",
   "execution_count": null,
   "metadata": {},
   "outputs": [],
   "source": [
    "# añadir un elemento a la lista\n",
    "letter.append(\"!\")\n",
    "print(letter)"
   ]
  },
  {
   "cell_type": "code",
   "execution_count": null,
   "metadata": {},
   "outputs": [],
   "source": [
    "# añadir un elemento en una posición específica\n",
    "letter.insert(6, \"!\")\n",
    "print(letter)"
   ]
  },
  {
   "cell_type": "code",
   "execution_count": null,
   "metadata": {},
   "outputs": [],
   "source": [
    "# eleminar un elemento de la lista\n",
    "if \"P\" in letter:\n",
    "    letter.remove('P') # remove elimina la primera ocurrencia del elemento\n",
    "print(letter)"
   ]
  },
  {
   "cell_type": "code",
   "execution_count": null,
   "metadata": {},
   "outputs": [],
   "source": [
    "# eliminar un elemento de la lista por su índice\n",
    "letter.pop(3)\n",
    "print(letter)"
   ]
  },
  {
   "cell_type": "code",
   "execution_count": null,
   "metadata": {},
   "outputs": [],
   "source": [
    "# eliminar un rango de elementos de la lista\n",
    "letter = letter[2:5]\n",
    "print(letter)"
   ]
  },
  {
   "cell_type": "code",
   "execution_count": null,
   "metadata": {},
   "outputs": [],
   "source": [
    "# invertir lista\n",
    "letter.reverse()\n",
    "print(letter)"
   ]
  },
  {
   "cell_type": "code",
   "execution_count": null,
   "metadata": {},
   "outputs": [],
   "source": [
    "# ordenar lista\n",
    "letter.sort()\n",
    "print(letter)"
   ]
  },
  {
   "cell_type": "code",
   "execution_count": null,
   "metadata": {},
   "outputs": [],
   "source": [
    "# contar elementos en la lista\n",
    "print(letter.count(\"a\"))\n",
    "# obtener el índice de un elemento\n",
    "if \"a\" in letter:\n",
    "    print(letter.index(\"a\"))\n",
    "\n",
    "# extener un lista\n",
    "letter.extend([\"a\", \"b\", \"c\"])\n",
    "print(letter)"
   ]
  },
  {
   "cell_type": "code",
   "execution_count": null,
   "metadata": {},
   "outputs": [],
   "source": [
    "# copiar una lista\n",
    "letter_copy = letter.copy()\n",
    "print(letter_copy)"
   ]
  },
  {
   "cell_type": "code",
   "execution_count": null,
   "metadata": {},
   "outputs": [],
   "source": [
    "# vaciar una lista\n",
    "letter_copy.clear()\n",
    "print(letter_copy)\n",
    "# borrar la lista"
   ]
  },
  {
   "cell_type": "markdown",
   "metadata": {},
   "source": [
    "# Tuplas\n",
    "- Las tuplas son objetos iterables pero con la diferencia que son inmutables\n",
    "- Son utiles cuando se manipulan datos que no se deben modificar pero si copiar para tratarlos"
   ]
  },
  {
   "cell_type": "code",
   "execution_count": null,
   "metadata": {},
   "outputs": [],
   "source": [
    "# crear una tupla\n",
    "nums = (1, 2, 3, 4, 5, 6, 7, 8, 9, 0)\n",
    "print(\"Mi tupla: {}\".format(nums))\n",
    "print(\"Numero de elemento: {}\".format(len(nums)))\n",
    "print(\"Maximo valor: {}\".format(max(nums)))\n",
    "print(\"Minimo valor: {}\".format(min(nums)))\n",
    "print(\"Suma de los elementos: {}\".format(sum(nums)))"
   ]
  },
  {
   "cell_type": "markdown",
   "metadata": {},
   "source": [
    "# Sets\n",
    "- Los sets son objetos iterables\n",
    "- Son mutables pero no se puede alterar el valor de un objeto que ya esta indexado\n",
    "- Los elementos dentro de un set no se pueden repetir\n",
    "- Buscar elementos en un set tiene un tiempo de ejecución corto comparado con otras estructuras de datos de Python\n",
    "- Lo sets se pueden utilizar para eliminar duplicados en una lista"
   ]
  },
  {
   "cell_type": "code",
   "execution_count": 59,
   "metadata": {},
   "outputs": [
    {
     "name": "stdout",
     "output_type": "stream",
     "text": [
      "{0, 1, 2, 3, 4, 5, 6, 7, 8, 9, 10}\n"
     ]
    }
   ],
   "source": [
    "# Crer un set\n",
    "data = [1,1,2,3,3,3,3,4,5,6,7,8,8,8,8,9,0, 10] \n",
    "my_set = set(data)\n",
    "print(my_set)"
   ]
  },
  {
   "cell_type": "markdown",
   "metadata": {},
   "source": [
    "- Los sets se pueden copiar"
   ]
  },
  {
   "cell_type": "code",
   "execution_count": 60,
   "metadata": {},
   "outputs": [
    {
     "name": "stdout",
     "output_type": "stream",
     "text": [
      "{0, 1, 2, 3, 4, 5, 6, 7, 8, 9, 10}\n"
     ]
    }
   ],
   "source": [
    "data_copy = my_set.copy()\n",
    "print(data_copy)"
   ]
  },
  {
   "cell_type": "code",
   "execution_count": null,
   "metadata": {},
   "outputs": [],
   "source": [
    "# añadir un elemento al set\n",
    "my_set.add(11)\n",
    "print(my_set)"
   ]
  },
  {
   "cell_type": "code",
   "execution_count": null,
   "metadata": {},
   "outputs": [],
   "source": [
    "# eliminar un elemento del set\n",
    "my_set.remove(11)\n",
    "print(my_set)"
   ]
  },
  {
   "cell_type": "code",
   "execution_count": 27,
   "metadata": {},
   "outputs": [
    {
     "name": "stdout",
     "output_type": "stream",
     "text": [
      "{0, 1, 2, 3, 4, 5, 6, 7, 8, 9, 10}\n"
     ]
    }
   ],
   "source": [
    "# eliminar un elemento del set de forma segura\n",
    "my_set.discard(11)\n",
    "print(my_set)"
   ]
  },
  {
   "cell_type": "code",
   "execution_count": 31,
   "metadata": {},
   "outputs": [
    {
     "name": "stdout",
     "output_type": "stream",
     "text": [
      "{4, 5, 6, 7, 8, 9, 10}\n"
     ]
    }
   ],
   "source": [
    "# eliminar un elemento aleatorio del set\n",
    "my_set.pop()\n",
    "print(my_set)"
   ]
  },
  {
   "cell_type": "markdown",
   "metadata": {},
   "source": [
    "- Los sets permiten operaciones de conjuntos"
   ]
  },
  {
   "cell_type": "code",
   "execution_count": 43,
   "metadata": {},
   "outputs": [
    {
     "name": "stdout",
     "output_type": "stream",
     "text": [
      "{'Ana', 'Pedro', 'Marta', 'Juan'} {'Ana', 'Pedro', 'Marta', 'Luis', 'Juan'}\n"
     ]
    }
   ],
   "source": [
    "set1 = {\"Marta\", \"Juan\", \"Pedro\", \"Ana\"}\n",
    "set2 = {\"Marta\", \"Juan\", \"Pedro\", \"Ana\", \"Luis\"}\n",
    "print(set1, set2)"
   ]
  },
  {
   "cell_type": "code",
   "execution_count": 53,
   "metadata": {},
   "outputs": [
    {
     "name": "stdout",
     "output_type": "stream",
     "text": [
      "{'Ana', 'Pedro', 'Marta', 'Juan', 'Luis'}\n",
      "{'Luis'}\n",
      "{'Ana', 'Pedro', 'Marta', 'Juan'}\n"
     ]
    }
   ],
   "source": [
    "# operaciones de conjuntos con los sets\n",
    "union = set1.union(set2) # usando método\n",
    "print(union)\n",
    "\n",
    "diferencia = set2.difference(set1)\n",
    "print(diferencia)\n",
    "\n",
    "interseccion = set1.intersection(set2)\n",
    "print(interseccion)"
   ]
  },
  {
   "cell_type": "code",
   "execution_count": 57,
   "metadata": {},
   "outputs": [
    {
     "name": "stdout",
     "output_type": "stream",
     "text": [
      "{'Ana', 'Pedro', 'Marta', 'Juan', 'Luis'}\n",
      "{'Luis'}\n",
      "{'Ana', 'Pedro', 'Marta', 'Juan'}\n"
     ]
    }
   ],
   "source": [
    "# operaciones de conjuntos con los sets usando operadores\n",
    "union = set1 | set2\n",
    "print(union)\n",
    "diferencia = set2 - set1\n",
    "print(diferencia)\n",
    "interseccion = set1 & set2\n",
    "print(interseccion)"
   ]
  },
  {
   "cell_type": "markdown",
   "metadata": {},
   "source": [
    "# Strings\n",
    "- Representan una cadena de caracteres\n",
    "- Son iterables\n",
    "- Se pueden modificar"
   ]
  },
  {
   "cell_type": "code",
   "execution_count": 88,
   "metadata": {},
   "outputs": [
    {
     "ename": "SyntaxError",
     "evalue": "expression cannot contain assignment, perhaps you meant \"==\"? (2604467125.py, line 22)",
     "output_type": "error",
     "traceback": [
      "\u001b[1;36m  Cell \u001b[1;32mIn[88], line 22\u001b[1;36m\u001b[0m\n\u001b[1;33m    print(example[2]=\"ds\")\u001b[0m\n\u001b[1;37m          ^\u001b[0m\n\u001b[1;31mSyntaxError\u001b[0m\u001b[1;31m:\u001b[0m expression cannot contain assignment, perhaps you meant \"==\"?\n"
     ]
    }
   ],
   "source": [
    "example = \"I'm learning data structures in Python\"\n",
    "\n",
    "# pasar a mayusculas\n",
    "print(example.upper())\n",
    "# pasara a minusculas\n",
    "print(example.lower())\n",
    "# Añadir mayusucula al principio de la cadena\n",
    "print(example.capitalize())\n",
    "# Añadir mayuscula a cada palabra de la cadena\n",
    "print(example.title())\n",
    "# contar la cantidad de veces que aparece una cadena\n",
    "print(example.count(\"t\"))\n",
    "# buscar una cadena en la cadena\n",
    "print(example.find(\"Python\"))  # find devuelve el indice de la primera ocurrencia\n",
    "# reemplazar una cadena por otra\n",
    "print(example.replace(\"Python\", \"Java\"))\n",
    "# dividir una cadena\n",
    "print(example.split())\n",
    "# unir una cadena\n",
    "print(\" \".join(example.split()))"
   ]
  }
 ],
 "metadata": {
  "kernelspec": {
   "display_name": ".venv",
   "language": "python",
   "name": "python3"
  },
  "language_info": {
   "codemirror_mode": {
    "name": "ipython",
    "version": 3
   },
   "file_extension": ".py",
   "mimetype": "text/x-python",
   "name": "python",
   "nbconvert_exporter": "python",
   "pygments_lexer": "ipython3",
   "version": "3.12.8"
  }
 },
 "nbformat": 4,
 "nbformat_minor": 2
}
