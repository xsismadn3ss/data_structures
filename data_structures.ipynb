{
 "cells": [
  {
   "cell_type": "markdown",
   "metadata": {},
   "source": [
    "# Estructuras de datos\n",
    "\n",
    "Las estructuras de datos permiten crear manejar datos de forma ordenada, además permite\n",
    "crear algoritmos eficientes para manipulas datos.\n"
   ]
  },
  {
   "cell_type": "markdown",
   "metadata": {},
   "source": [
    "# Listas\n",
    "\n",
    "- Las listas en python permiten almacenar objetos en un objeto iterable\n",
    "- Cada elemento en una lista tiene un indice\n",
    "- Las listas se pueden modificar\n",
    "- Se pueden eliminar objetos de una lista\n",
    "- Una lista puede tener listas dentro de ella\n"
   ]
  },
  {
   "cell_type": "code",
   "execution_count": null,
   "metadata": {},
   "outputs": [],
   "source": [
    "muestra: str = \"Python is a wonderful language\"\n",
    "# convertir la cadena en una lista de caracteres\n",
    "letter: list = [item for item in muestra if item != \" \"]\n",
    "print(letter)"
   ]
  },
  {
   "cell_type": "code",
   "execution_count": null,
   "metadata": {},
   "outputs": [],
   "source": [
    "# añadir un elemento a la lista\n",
    "letter.append(\"!\")\n",
    "print(letter)"
   ]
  },
  {
   "cell_type": "code",
   "execution_count": null,
   "metadata": {},
   "outputs": [],
   "source": [
    "# añadir un elemento en una posición específica\n",
    "letter.insert(6, \"!\")\n",
    "print(letter)"
   ]
  },
  {
   "cell_type": "code",
   "execution_count": null,
   "metadata": {},
   "outputs": [],
   "source": [
    "# eleminar un elemento de la lista\n",
    "if \"P\" in letter:\n",
    "    letter.remove(\"P\")  # remove elimina la primera ocurrencia del elemento\n",
    "print(letter)"
   ]
  },
  {
   "cell_type": "code",
   "execution_count": null,
   "metadata": {},
   "outputs": [],
   "source": [
    "# eliminar un elemento de la lista por su índice\n",
    "letter.pop(3)\n",
    "print(letter)"
   ]
  },
  {
   "cell_type": "code",
   "execution_count": null,
   "metadata": {},
   "outputs": [],
   "source": [
    "# eliminar un rango de elementos de la lista\n",
    "letter = letter[2:5]\n",
    "print(letter)"
   ]
  },
  {
   "cell_type": "code",
   "execution_count": null,
   "metadata": {},
   "outputs": [],
   "source": [
    "# invertir lista\n",
    "letter.reverse()\n",
    "print(letter)"
   ]
  },
  {
   "cell_type": "code",
   "execution_count": null,
   "metadata": {},
   "outputs": [],
   "source": [
    "# ordenar lista\n",
    "letter.sort()\n",
    "print(letter)"
   ]
  },
  {
   "cell_type": "code",
   "execution_count": null,
   "metadata": {},
   "outputs": [],
   "source": [
    "# contar elementos en la lista\n",
    "print(letter.count(\"a\"))\n",
    "# obtener el índice de un elemento\n",
    "if \"a\" in letter:\n",
    "    print(letter.index(\"a\"))\n",
    "\n",
    "# extener un lista\n",
    "letter.extend([\"a\", \"b\", \"c\"])\n",
    "print(letter)"
   ]
  },
  {
   "cell_type": "code",
   "execution_count": null,
   "metadata": {},
   "outputs": [],
   "source": [
    "# copiar una lista\n",
    "letter_copy = letter.copy()\n",
    "print(letter_copy)"
   ]
  },
  {
   "cell_type": "code",
   "execution_count": null,
   "metadata": {},
   "outputs": [],
   "source": [
    "# vaciar una lista\n",
    "letter_copy.clear()\n",
    "print(letter_copy)\n",
    "# borrar la lista"
   ]
  },
  {
   "cell_type": "markdown",
   "metadata": {},
   "source": [
    "# Tuplas\n",
    "\n",
    "- Las tuplas son objetos iterables pero con la diferencia que son inmutables\n",
    "- Son utiles cuando se manipulan datos que no se deben modificar pero si copiar para tratarlos\n"
   ]
  },
  {
   "cell_type": "code",
   "execution_count": null,
   "metadata": {},
   "outputs": [],
   "source": [
    "# crear una tupla\n",
    "nums = (1, 2, 3, 4, 5, 6, 7, 8, 9, 0)\n",
    "print(\"Mi tupla: {}\".format(nums))\n",
    "print(\"Numero de elemento: {}\".format(len(nums)))\n",
    "print(\"Maximo valor: {}\".format(max(nums)))\n",
    "print(\"Minimo valor: {}\".format(min(nums)))\n",
    "print(\"Suma de los elementos: {}\".format(sum(nums)))"
   ]
  },
  {
   "cell_type": "markdown",
   "metadata": {},
   "source": [
    "# Sets\n",
    "\n",
    "- Los sets son objetos iterables\n",
    "- Son mutables pero no se puede alterar el valor de un objeto que ya esta indexado\n",
    "- Los elementos dentro de un set no se pueden repetir\n",
    "- Buscar elementos en un set tiene un tiempo de ejecución corto comparado con otras estructuras de datos de Python\n",
    "- Lo sets se pueden utilizar para eliminar duplicados en una lista\n"
   ]
  },
  {
   "cell_type": "code",
   "execution_count": null,
   "metadata": {},
   "outputs": [],
   "source": [
    "# Crer un set\n",
    "value = [1, 1, 2, 3, 3, 3, 3, 4, 5, 6, 7, 8, 8, 8, 8, 9, 0, 10]\n",
    "my_set = set(value)\n",
    "print(my_set)"
   ]
  },
  {
   "cell_type": "markdown",
   "metadata": {},
   "source": [
    "- Los sets se pueden copiar\n"
   ]
  },
  {
   "cell_type": "code",
   "execution_count": null,
   "metadata": {},
   "outputs": [],
   "source": [
    "data_copy = my_set.copy()\n",
    "print(data_copy)"
   ]
  },
  {
   "cell_type": "code",
   "execution_count": null,
   "metadata": {},
   "outputs": [],
   "source": [
    "# añadir un elemento al set\n",
    "my_set.add(11)\n",
    "print(my_set)"
   ]
  },
  {
   "cell_type": "code",
   "execution_count": null,
   "metadata": {},
   "outputs": [],
   "source": [
    "# eliminar un elemento del set\n",
    "my_set.remove(11)\n",
    "print(my_set)"
   ]
  },
  {
   "cell_type": "code",
   "execution_count": null,
   "metadata": {},
   "outputs": [],
   "source": [
    "# eliminar un elemento del set de forma segura\n",
    "my_set.discard(11)\n",
    "print(my_set)"
   ]
  },
  {
   "cell_type": "code",
   "execution_count": null,
   "metadata": {},
   "outputs": [],
   "source": [
    "# eliminar un elemento aleatorio del set\n",
    "my_set.pop()\n",
    "print(my_set)"
   ]
  },
  {
   "cell_type": "markdown",
   "metadata": {},
   "source": [
    "- Los sets permiten operaciones de conjuntos\n"
   ]
  },
  {
   "cell_type": "code",
   "execution_count": null,
   "metadata": {},
   "outputs": [],
   "source": [
    "set1 = {\"Marta\", \"Juan\", \"Pedro\", \"Ana\"}\n",
    "set2 = {\"Marta\", \"Juan\", \"Pedro\", \"Ana\", \"Luis\"}\n",
    "print(set1, set2)"
   ]
  },
  {
   "cell_type": "code",
   "execution_count": null,
   "metadata": {},
   "outputs": [],
   "source": [
    "# operaciones de conjuntos con los sets\n",
    "union = set1.union(set2)  # usando método\n",
    "print(union)\n",
    "\n",
    "diferencia = set2.difference(set1)\n",
    "print(diferencia)\n",
    "\n",
    "interseccion = set1.intersection(set2)\n",
    "print(interseccion)"
   ]
  },
  {
   "cell_type": "code",
   "execution_count": null,
   "metadata": {},
   "outputs": [],
   "source": [
    "# operaciones de conjuntos con los sets usando operadores\n",
    "union = set1 | set2\n",
    "print(union)\n",
    "diferencia = set2 - set1\n",
    "print(diferencia)\n",
    "interseccion = set1 & set2\n",
    "print(interseccion)"
   ]
  },
  {
   "cell_type": "markdown",
   "metadata": {},
   "source": [
    "# Strings\n",
    "\n",
    "- Representan una cadena de caracteres\n",
    "- Son iterables\n",
    "- Se pueden modificar\n"
   ]
  },
  {
   "cell_type": "code",
   "execution_count": null,
   "metadata": {},
   "outputs": [],
   "source": [
    "example = \"I'm learning data structures in Python\"\n",
    "\n",
    "# pasar a mayusculas\n",
    "print(example.upper())\n",
    "# pasara a minusculas\n",
    "print(example.lower())\n",
    "# Añadir mayusucula al principio de la cadena\n",
    "print(example.capitalize())\n",
    "# Añadir mayuscula a cada palabra de la cadena\n",
    "print(example.title())\n",
    "# contar la cantidad de veces que aparece una cadena\n",
    "print(example.count(\"t\"))\n",
    "# buscar una cadena en la cadena\n",
    "print(example.find(\"Python\"))  # find devuelve el indice de la primera ocurrencia\n",
    "# reemplazar una cadena por otra\n",
    "print(example.replace(\"Python\", \"Java\"))\n",
    "# dividir una cadena\n",
    "print(example.split())\n",
    "# unir una cadena\n",
    "print(\" \".join(example.split()))"
   ]
  },
  {
   "cell_type": "markdown",
   "metadata": {},
   "source": [
    "# Diccionarios\n",
    "\n",
    "- Es una estructura de datos que almacena información en el formato clave - valor.\n",
    "- Los diccionariós son parecidos a los JSON pero con la excepción que se utilizan unicamente para almacenar información\n"
   ]
  },
  {
   "cell_type": "code",
   "execution_count": null,
   "metadata": {},
   "outputs": [],
   "source": [
    "my_dict: dict = {\"name\": \"Juan\", \"age\": 25, \"city\": \"Madrid\"}\n",
    "my_dict"
   ]
  },
  {
   "cell_type": "markdown",
   "metadata": {},
   "source": [
    "- Los diccionario se puden copiar para no alterar los diccionarios originales\n"
   ]
  },
  {
   "cell_type": "code",
   "execution_count": null,
   "metadata": {},
   "outputs": [],
   "source": [
    "value: dict = {x: x * 2 for x in range(1, 10)}\n",
    "copy = value.copy()\n",
    "copy[10] = \"Python is good\"\n",
    "copy"
   ]
  },
  {
   "cell_type": "markdown",
   "metadata": {},
   "source": [
    "- Los diccionarios pueden tener diccionarios anidados dentro de el\n"
   ]
  },
  {
   "cell_type": "code",
   "execution_count": null,
   "metadata": {},
   "outputs": [],
   "source": [
    "persona = {\n",
    "    \"name\": \"Juan\",\n",
    "    \"age\": 25,\n",
    "    \"city\": \"Madrid\",\n",
    "    \"country\": \"Spain\",\n",
    "    \"extra\": {\n",
    "        \"hoobies\": [\"reading\", \"play muscic\", \"code in Python\"],\n",
    "        \"job\": \"developer\",\n",
    "        \"favorite_colors\": [\"blue\", \"black\", \"green\"],\n",
    "    },\n",
    "}\n",
    "persona"
   ]
  },
  {
   "cell_type": "markdown",
   "metadata": {},
   "source": [
    "- Buscar datos en un diccionario es mucho más rapido que en una lista\n"
   ]
  },
  {
   "cell_type": "code",
   "execution_count": null,
   "metadata": {},
   "outputs": [],
   "source": [
    "language = {\n",
    "    \"name\": \"Python\",\n",
    "    \"realase_year\": 1991,\n",
    "    \"frameworks\": [\"Django\", \"Flask\", \"Pyramyd\", \"FastAPI\"],\n",
    "    \"creator\": \"Guido van Rossum\",\n",
    "}\n",
    "\n",
    "print(language.keys())\n",
    "print(\n",
    "    \"Creator:\", language.get(\"creator\")\n",
    ")  # get es más seguro porque no lanza una excepción\n",
    "print(\"Name:\", language[\"name\"])"
   ]
  },
  {
   "cell_type": "code",
   "execution_count": null,
   "metadata": {},
   "outputs": [],
   "source": [
    "# items es utilizado para obtener los pares clave valor como una lista de tuplas\n",
    "items = language.items()\n",
    "print(items)\n",
    "for i in items:\n",
    "    print(i)"
   ]
  },
  {
   "cell_type": "markdown",
   "metadata": {},
   "source": [
    "# Matrices\n",
    "\n",
    "- Las matrices es un array de dos dimensiones\n",
    "- Las dimensiones de la matriz deben ser simétricas\n"
   ]
  },
  {
   "cell_type": "code",
   "execution_count": null,
   "metadata": {},
   "outputs": [],
   "source": [
    "l1 = [1, 2, 3, 4]\n",
    "l2 = [2, 4, 6, 8]\n",
    "l3 = [1, 3, 5, 7]\n",
    "a = [l1, l2, l3]\n",
    "\n",
    "# accediento a un elemento\n",
    "print(a[0][2])\n",
    "\n",
    "# añadiendo un elemento\n",
    "a.append([11, 22, 33, 44])\n",
    "print(a)\n",
    "\n",
    "# eliminar un elemento en la lista\n",
    "a.pop(2)\n",
    "print(a)"
   ]
  },
  {
   "cell_type": "code",
   "execution_count": null,
   "metadata": {},
   "outputs": [],
   "source": [
    "# utilizando numpy\n",
    "import numpy as np\n",
    "\n",
    "l1 = [1, 2, 3, 4]\n",
    "l2 = [2, 4, 6, 8]\n",
    "l3 = [1, 3, 5, 7]\n",
    "\n",
    "a = np.array([l1, l2, l3])\n",
    "m = np.reshape(a, (3, 4))\n",
    "print(m, end=\"\\n\\n\")\n",
    "\n",
    "# acceciendo a un elemento\n",
    "print(m[0][2], end=\"\\n\\n\")\n",
    "\n",
    "# añadiendo un elemento\n",
    "m = np.append(m, [[11, 22, 33, 44]], 0)\n",
    "print(m, end=\"\\n\\n\")\n",
    "\n",
    "# eliminando un elemento\n",
    "m = np.delete(m, [2], 0)\n",
    "print(m)"
   ]
  },
  {
   "cell_type": "markdown",
   "metadata": {},
   "source": [
    "# Linked Lists\n",
    "\n",
    "Es un estructura de datos en la que los datos no estan alamacenados uno despues del otro, sino que se utilizan puntero para hacer referencia al siguiente elemento en la lista\n",
    "\n",
    "- Las linked list son nodos dirigidos a una sola dirección y que forman una lista\n"
   ]
  },
  {
   "cell_type": "code",
   "execution_count": 1,
   "metadata": {},
   "outputs": [
    {
     "data": {
      "text/plain": [
       "'My -> favorite -> programming -> language -> is -> Pyhton'"
      ]
     },
     "execution_count": 1,
     "metadata": {},
     "output_type": "execute_result"
    }
   ],
   "source": [
    "# crear clase Nodo para crear una Linked list\n",
    "from dataclasses import dataclass\n",
    "from typing import Any\n",
    "from icecream import ic as log\n",
    "\n",
    "\n",
    "@dataclass(repr=True, order=True, match_args=True)\n",
    "class Node:\n",
    "    value: Any\n",
    "    next: Any = None\n",
    "\n",
    "\n",
    "# crear clase Linked List que tiene como único atributo un head que es elemento principal en la lista\n",
    "@dataclass(repr=True, order=True, match_args=True)\n",
    "class LinkedList:\n",
    "    head: Node = None\n",
    "\n",
    "    @property\n",
    "    def nodes(self):\n",
    "        def collect_nodes(node: Node | None):\n",
    "            if node is None:\n",
    "                return []\n",
    "            return [node.value] + collect_nodes(node.next)\n",
    "\n",
    "        return \" -> \".join(map(str, collect_nodes(self.head)))\n",
    "\n",
    "\n",
    "text = \"My favorite programming language is Pyhton\"\n",
    "\n",
    "\n",
    "def create_linked_list(iterable):\n",
    "    if not iterable:\n",
    "        return None\n",
    "    return Node(\n",
    "        iterable[0],  # primer objeto en la lista\n",
    "        create_linked_list(\n",
    "            iterable[1:]  # se recorta la lista y se excluye el elemento con indice 0\n",
    "        ),\n",
    "    )\n",
    "\n",
    "l_list = LinkedList(create_linked_list(text.split()))\n",
    "l_list.nodes"
   ]
  },
  {
   "cell_type": "code",
   "execution_count": 2,
   "metadata": {},
   "outputs": [
    {
     "name": "stdout",
     "output_type": "stream",
     "text": [
      "Valor de los nodos\n",
      " Nodes: Python -> is -> the -> best\n",
      "\n",
      "Nodo principal \n",
      "Head:\n",
      "    value = Python,\n",
      "    next -> is\n",
      "\n",
      "\n",
      "Todosl los nodos \n",
      "Node:\n",
      "    value = Python\n",
      "    next -> \n",
      "Node:\n",
      "    value = is\n",
      "    next -> \n",
      "Node:\n",
      "    value = the\n",
      "    next -> \n",
      "Node:\n",
      "    value = best\n",
      "    next -> None\n"
     ]
    }
   ],
   "source": [
    "# Linked list sin usar Dataclasses\n",
    "class Node:\n",
    "    def __init__(self, value: str, next):\n",
    "        self.value = value\n",
    "        self.next = next\n",
    "\n",
    "    def __str__(self):\n",
    "        return f\"\"\"\n",
    "Node:\n",
    "    value = {self.value}\n",
    "    next -> {self.next}\"\"\"\n",
    "\n",
    "\n",
    "class LinkedList:\n",
    "    def __init__(self, iterable: list):\n",
    "        self.iterable = iterable\n",
    "\n",
    "    def __define__(self):\n",
    "        def create_linked_list(iterable):\n",
    "            if not iterable:\n",
    "                return None\n",
    "            return Node(iterable[0], create_linked_list(iterable[1:]))\n",
    "\n",
    "        return create_linked_list(self.iterable)\n",
    "\n",
    "    @property\n",
    "    def head(self):\n",
    "        main_node = self.__define__()\n",
    "        return f\"\"\"\n",
    "Head:\n",
    "    value = {main_node.value},\n",
    "    next -> {main_node.next.value}\\n\n",
    "\"\"\"\n",
    "\n",
    "    @property\n",
    "    def nodes(self):\n",
    "        def collect_nodes(node: Node | None):\n",
    "            if node is None:\n",
    "                return []\n",
    "            else:\n",
    "                return [node.value] + collect_nodes(node.next)\n",
    "\n",
    "        return \"Nodes: \" + \" -> \".join(map(str, collect_nodes(self.__define__())))\n",
    "\n",
    "    @property\n",
    "    def all(self):\n",
    "        nodes = self.__define__()\n",
    "        return nodes\n",
    "\n",
    "\n",
    "words = \"Python is the best\"\n",
    "l_list = LinkedList(words.split())\n",
    "print(\"Valor de los nodos\\n\", l_list.nodes, end='\\n\\n')\n",
    "print(\"Nodo principal\", l_list.head, end=\"\\n\")\n",
    "print('Todosl los nodos', l_list.all)"
   ]
  }
 ],
 "metadata": {
  "kernelspec": {
   "display_name": ".venv",
   "language": "python",
   "name": "python3"
  },
  "language_info": {
   "codemirror_mode": {
    "name": "ipython",
    "version": 3
   },
   "file_extension": ".py",
   "mimetype": "text/x-python",
   "name": "python",
   "nbconvert_exporter": "python",
   "pygments_lexer": "ipython3",
   "version": "3.12.8"
  }
 },
 "nbformat": 4,
 "nbformat_minor": 2
}
